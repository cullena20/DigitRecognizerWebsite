{
 "cells": [
  {
   "cell_type": "code",
   "execution_count": 24,
   "metadata": {},
   "outputs": [],
   "source": [
    "import numpy as np\n",
    "import pandas as pd\n",
    "import matplotlib.pyplot as plt\n",
    "from keras import Sequential\n",
    "from keras.layers import Dense, Flatten, Conv2D, Dropout, MaxPooling2D\n",
    "from keras.datasets import mnist\n",
    "from keras.utils import to_categorical\n",
    "import pickle"
   ]
  },
  {
   "cell_type": "markdown",
   "metadata": {},
   "source": [
    "# Loading Data And Basic Preprocessing"
   ]
  },
  {
   "cell_type": "code",
   "execution_count": 14,
   "metadata": {},
   "outputs": [
    {
     "name": "stdout",
     "output_type": "stream",
     "text": [
      "x_train: (60000, 28, 28)\n",
      "y_train: (60000,)\n",
      "x_test:  (10000, 28, 28)\n",
      "y_test:  (10000,)\n"
     ]
    }
   ],
   "source": [
    "(x_train, y_train), (x_test, y_test) = mnist.load_data()\n",
    "print('x_train: ' + str(x_train.shape))\n",
    "print('y_train: ' + str(y_train.shape))\n",
    "print('x_test:  '  + str(x_test.shape))\n",
    "print('y_test:  '  + str(y_test.shape))"
   ]
  },
  {
   "cell_type": "code",
   "execution_count": 15,
   "metadata": {},
   "outputs": [],
   "source": [
    "x_train = x_train / 255\n",
    "x_test = x_test / 255"
   ]
  },
  {
   "cell_type": "code",
   "execution_count": 16,
   "metadata": {},
   "outputs": [
    {
     "data": {
      "image/png": "[encoded data removed]",
      "text/plain": [
       "<Figure size 800x800 with 9 Axes>"
      ]
     },
     "metadata": {},
     "output_type": "display_data"
    }
   ],
   "source": [
    "fig, axes = plt.subplots(3, 3, figsize=(8, 8))\n",
    "for i, ax in enumerate(axes.flat):\n",
    "    ax.imshow(x_train[i], cmap=plt.get_cmap('gray'))\n",
    "    ax.axis('off')\n",
    "plt.tight_layout()\n",
    "plt.show()"
   ]
  },
  {
   "cell_type": "markdown",
   "metadata": {},
   "source": [
    "# Training"
   ]
  },
  {
   "cell_type": "markdown",
   "metadata": {},
   "source": [
    "## Simple Neural Network"
   ]
  },
  {
   "cell_type": "code",
   "execution_count": 5,
   "metadata": {},
   "outputs": [
    {
     "name": "stdout",
     "output_type": "stream",
     "text": [
      "Model: \"sequential\"\n",
      "_________________________________________________________________\n",
      " Layer (type)                Output Shape              Param #   \n",
      "=================================================================\n",
      " flatten (Flatten)           (None, 784)               0         \n",
      "                                                                 \n",
      " dense (Dense)               (None, 128)               100480    \n",
      "                                                                 \n",
      " dense_1 (Dense)             (None, 10)                1290      \n",
      "                                                                 \n",
      "=================================================================\n",
      "Total params: 101,770\n",
      "Trainable params: 101,770\n",
      "Non-trainable params: 0\n",
      "_________________________________________________________________\n"
     ]
    }
   ],
   "source": [
    "model = Sequential([\n",
    "    Flatten(input_shape=(28,28)),\n",
    "    Dense(units=128, activation=\"relu\"),\n",
    "    Dense(units=10, activation=\"softmax\")\n",
    "])\n",
    "\n",
    "model.compile(optimizer=\"adam\", loss=\"sparse_categorical_crossentropy\", metrics=[\"accuracy\"])\n",
    "\n",
    "model.summary()"
   ]
  },
  {
   "cell_type": "code",
   "execution_count": 97,
   "metadata": {},
   "outputs": [
    {
     "name": "stdout",
     "output_type": "stream",
     "text": [
      "Epoch 1/30\n",
      "1875/1875 [==============================] - 2s 875us/step - loss: 0.2604 - accuracy: 0.9245 - val_loss: 0.1451 - val_accuracy: 0.9580\n",
      "Epoch 2/30\n",
      "1875/1875 [==============================] - 2s 817us/step - loss: 0.1165 - accuracy: 0.9660 - val_loss: 0.0999 - val_accuracy: 0.9697\n",
      "Epoch 3/30\n",
      "1875/1875 [==============================] - 2s 818us/step - loss: 0.0798 - accuracy: 0.9765 - val_loss: 0.0911 - val_accuracy: 0.9714\n",
      "Epoch 4/30\n",
      "1875/1875 [==============================] - 1s 790us/step - loss: 0.0594 - accuracy: 0.9819 - val_loss: 0.0802 - val_accuracy: 0.9755\n",
      "Epoch 5/30\n",
      "1875/1875 [==============================] - 1s 798us/step - loss: 0.0456 - accuracy: 0.9859 - val_loss: 0.0758 - val_accuracy: 0.9763\n",
      "Epoch 6/30\n",
      "1875/1875 [==============================] - 1s 784us/step - loss: 0.0365 - accuracy: 0.9889 - val_loss: 0.0757 - val_accuracy: 0.9779\n",
      "Epoch 7/30\n",
      "1875/1875 [==============================] - 1s 789us/step - loss: 0.0284 - accuracy: 0.9914 - val_loss: 0.0851 - val_accuracy: 0.9744\n",
      "Epoch 8/30\n",
      "1875/1875 [==============================] - 1s 794us/step - loss: 0.0231 - accuracy: 0.9932 - val_loss: 0.0794 - val_accuracy: 0.9778\n",
      "Epoch 9/30\n",
      "1875/1875 [==============================] - 1s 795us/step - loss: 0.0199 - accuracy: 0.9937 - val_loss: 0.0821 - val_accuracy: 0.9789\n",
      "Epoch 10/30\n",
      "1875/1875 [==============================] - 2s 833us/step - loss: 0.0158 - accuracy: 0.9952 - val_loss: 0.0848 - val_accuracy: 0.9773\n",
      "Epoch 11/30\n",
      "1875/1875 [==============================] - 1s 796us/step - loss: 0.0134 - accuracy: 0.9959 - val_loss: 0.0867 - val_accuracy: 0.9783\n",
      "Epoch 12/30\n",
      "1875/1875 [==============================] - 1s 796us/step - loss: 0.0118 - accuracy: 0.9962 - val_loss: 0.0864 - val_accuracy: 0.9792\n",
      "Epoch 13/30\n",
      "1875/1875 [==============================] - 1s 794us/step - loss: 0.0112 - accuracy: 0.9965 - val_loss: 0.0860 - val_accuracy: 0.9790\n",
      "Epoch 14/30\n",
      "1875/1875 [==============================] - 1s 798us/step - loss: 0.0089 - accuracy: 0.9974 - val_loss: 0.1133 - val_accuracy: 0.9740\n",
      "Epoch 15/30\n",
      "1875/1875 [==============================] - 1s 792us/step - loss: 0.0084 - accuracy: 0.9974 - val_loss: 0.1005 - val_accuracy: 0.9797\n",
      "Epoch 16/30\n",
      "1875/1875 [==============================] - 1s 794us/step - loss: 0.0073 - accuracy: 0.9977 - val_loss: 0.1085 - val_accuracy: 0.9779\n",
      "Epoch 17/30\n",
      "1875/1875 [==============================] - 2s 815us/step - loss: 0.0071 - accuracy: 0.9981 - val_loss: 0.0998 - val_accuracy: 0.9787\n",
      "Epoch 18/30\n",
      "1875/1875 [==============================] - 2s 853us/step - loss: 0.0076 - accuracy: 0.9976 - val_loss: 0.0940 - val_accuracy: 0.9802\n",
      "Epoch 19/30\n",
      "1875/1875 [==============================] - 2s 848us/step - loss: 0.0063 - accuracy: 0.9982 - val_loss: 0.1157 - val_accuracy: 0.9776\n",
      "Epoch 20/30\n",
      "1875/1875 [==============================] - 2s 984us/step - loss: 0.0049 - accuracy: 0.9984 - val_loss: 0.1122 - val_accuracy: 0.9786\n",
      "Epoch 21/30\n",
      "1875/1875 [==============================] - 2s 812us/step - loss: 0.0062 - accuracy: 0.9980 - val_loss: 0.1066 - val_accuracy: 0.9808\n",
      "Epoch 22/30\n",
      "1875/1875 [==============================] - 2s 801us/step - loss: 0.0040 - accuracy: 0.9989 - val_loss: 0.1086 - val_accuracy: 0.9807\n",
      "Epoch 23/30\n",
      "1875/1875 [==============================] - 1s 762us/step - loss: 0.0065 - accuracy: 0.9979 - val_loss: 0.1325 - val_accuracy: 0.9769\n",
      "Epoch 24/30\n",
      "1875/1875 [==============================] - 1s 759us/step - loss: 0.0045 - accuracy: 0.9984 - val_loss: 0.1128 - val_accuracy: 0.9803\n",
      "Epoch 25/30\n",
      "1875/1875 [==============================] - 2s 897us/step - loss: 0.0043 - accuracy: 0.9986 - val_loss: 0.1252 - val_accuracy: 0.9784\n",
      "Epoch 26/30\n",
      "1875/1875 [==============================] - 2s 962us/step - loss: 0.0055 - accuracy: 0.9982 - val_loss: 0.1318 - val_accuracy: 0.9772\n",
      "Epoch 27/30\n",
      "1875/1875 [==============================] - 1s 783us/step - loss: 0.0047 - accuracy: 0.9985 - val_loss: 0.1382 - val_accuracy: 0.9777\n",
      "Epoch 28/30\n",
      "1875/1875 [==============================] - 2s 800us/step - loss: 0.0038 - accuracy: 0.9989 - val_loss: 0.1343 - val_accuracy: 0.9783\n",
      "Epoch 29/30\n",
      "1875/1875 [==============================] - 2s 871us/step - loss: 0.0030 - accuracy: 0.9992 - val_loss: 0.1316 - val_accuracy: 0.9781\n",
      "Epoch 30/30\n",
      "1875/1875 [==============================] - 2s 808us/step - loss: 0.0043 - accuracy: 0.9986 - val_loss: 0.1318 - val_accuracy: 0.9801\n",
      "313/313 [==============================] - 0s 472us/step - loss: 0.1318 - accuracy: 0.9801\n",
      "Test Loss: 0.132\n",
      "Test Accuracy: 0.980\n"
     ]
    }
   ],
   "source": [
    "model.fit(x_train, y_train, epochs=30, batch_size=32, validation_data=(x_test, y_test))"
   ]
  },
  {
   "cell_type": "code",
   "execution_count": 99,
   "metadata": {},
   "outputs": [
    {
     "name": "stdout",
     "output_type": "stream",
     "text": [
      "313/313 [==============================] - 0s 667us/step - loss: 0.1318 - accuracy: 0.9801\n",
      "Test Loss: 0.132\n",
      "Test Accuracy: 0.980\n"
     ]
    }
   ],
   "source": [
    "loss, accuracy = model.evaluate(x_test, y_test)\n",
    "print(f\"Test Loss: {loss:.3f}\")\n",
    "print(f\"Test Accuracy: {accuracy:.3f}\")"
   ]
  },
  {
   "cell_type": "code",
   "execution_count": 98,
   "metadata": {},
   "outputs": [
    {
     "name": "stdout",
     "output_type": "stream",
     "text": [
      "INFO:tensorflow:Assets written to: models/simple_keras_nn/assets\n"
     ]
    },
    {
     "name": "stderr",
     "output_type": "stream",
     "text": [
      "INFO:tensorflow:Assets written to: models/simple_keras_nn/assets\n"
     ]
    }
   ],
   "source": [
    "model.save(\"models/simple_keras_nn\")"
   ]
  },
  {
   "cell_type": "markdown",
   "metadata": {},
   "source": [
    "## CNN"
   ]
  },
  {
   "cell_type": "code",
   "execution_count": 102,
   "metadata": {},
   "outputs": [
    {
     "name": "stdout",
     "output_type": "stream",
     "text": [
      "Model: \"sequential_6\"\n",
      "_________________________________________________________________\n",
      " Layer (type)                Output Shape              Param #   \n",
      "=================================================================\n",
      " conv2d_6 (Conv2D)           (None, 26, 26, 32)        320       \n",
      "                                                                 \n",
      " max_pooling2d_6 (MaxPooling  (None, 13, 13, 32)       0         \n",
      " 2D)                                                             \n",
      "                                                                 \n",
      " dropout_9 (Dropout)         (None, 13, 13, 32)        0         \n",
      "                                                                 \n",
      " conv2d_7 (Conv2D)           (None, 11, 11, 64)        18496     \n",
      "                                                                 \n",
      " max_pooling2d_7 (MaxPooling  (None, 5, 5, 64)         0         \n",
      " 2D)                                                             \n",
      "                                                                 \n",
      " dropout_10 (Dropout)        (None, 5, 5, 64)          0         \n",
      "                                                                 \n",
      " flatten_6 (Flatten)         (None, 1600)              0         \n",
      "                                                                 \n",
      " dense_12 (Dense)            (None, 128)               204928    \n",
      "                                                                 \n",
      " dropout_11 (Dropout)        (None, 128)               0         \n",
      "                                                                 \n",
      " dense_13 (Dense)            (None, 10)                1290      \n",
      "                                                                 \n",
      "=================================================================\n",
      "Total params: 225,034\n",
      "Trainable params: 225,034\n",
      "Non-trainable params: 0\n",
      "_________________________________________________________________\n"
     ]
    }
   ],
   "source": [
    "cnn = Sequential([\n",
    "    Conv2D(32, (3, 3), activation='relu', input_shape=(28, 28, 1)),\n",
    "    MaxPooling2D((2, 2)),\n",
    "    Dropout(0.25),\n",
    "\n",
    "    Conv2D(64, (3, 3), activation='relu'),\n",
    "    MaxPooling2D((2, 2)),\n",
    "    Dropout(0.25),\n",
    "\n",
    "    Flatten(),\n",
    "\n",
    "    Dense(128, activation='relu'),\n",
    "    Dropout(0.5),\n",
    "\n",
    "    Dense(10, activation='softmax')])\n",
    "\n",
    "# Compile the model\n",
    "cnn.compile(optimizer='adam',\n",
    "              loss='sparse_categorical_crossentropy',\n",
    "              metrics=['accuracy'])\n",
    "\n",
    "cnn.summary()"
   ]
  },
  {
   "cell_type": "code",
   "execution_count": 106,
   "metadata": {},
   "outputs": [
    {
     "name": "stdout",
     "output_type": "stream",
     "text": [
      "Epoch 1/10\n",
      "469/469 [==============================] - 22s 47ms/step - loss: 0.3601 - accuracy: 0.8860 - val_loss: 0.0723 - val_accuracy: 0.9768\n",
      "Epoch 2/10\n",
      "469/469 [==============================] - 23s 49ms/step - loss: 0.1224 - accuracy: 0.9637 - val_loss: 0.0439 - val_accuracy: 0.9857\n",
      "Epoch 3/10\n",
      "469/469 [==============================] - 23s 48ms/step - loss: 0.0908 - accuracy: 0.9726 - val_loss: 0.0358 - val_accuracy: 0.9878\n",
      "Epoch 4/10\n",
      "469/469 [==============================] - 21s 46ms/step - loss: 0.0778 - accuracy: 0.9765 - val_loss: 0.0334 - val_accuracy: 0.9890\n",
      "Epoch 5/10\n",
      "469/469 [==============================] - 20s 42ms/step - loss: 0.0662 - accuracy: 0.9792 - val_loss: 0.0287 - val_accuracy: 0.9900\n",
      "Epoch 6/10\n",
      "469/469 [==============================] - 20s 42ms/step - loss: 0.0637 - accuracy: 0.9808 - val_loss: 0.0305 - val_accuracy: 0.9896\n",
      "Epoch 7/10\n",
      "469/469 [==============================] - 21s 45ms/step - loss: 0.0549 - accuracy: 0.9833 - val_loss: 0.0261 - val_accuracy: 0.9908\n",
      "Epoch 8/10\n",
      "469/469 [==============================] - 21s 44ms/step - loss: 0.0520 - accuracy: 0.9842 - val_loss: 0.0286 - val_accuracy: 0.9905\n",
      "Epoch 9/10\n",
      "469/469 [==============================] - 21s 45ms/step - loss: 0.0490 - accuracy: 0.9853 - val_loss: 0.0242 - val_accuracy: 0.9919\n",
      "Epoch 10/10\n",
      "469/469 [==============================] - 20s 43ms/step - loss: 0.0438 - accuracy: 0.9861 - val_loss: 0.0258 - val_accuracy: 0.9912\n"
     ]
    },
    {
     "data": {
      "text/plain": [
       "<keras.callbacks.History at 0x13fa1a550>"
      ]
     },
     "execution_count": 106,
     "metadata": {},
     "output_type": "execute_result"
    }
   ],
   "source": [
    "cnn.fit(x_train, y_train, batch_size=128, epochs=10, validation_data=(x_test, y_test))"
   ]
  },
  {
   "cell_type": "code",
   "execution_count": 107,
   "metadata": {},
   "outputs": [
    {
     "name": "stdout",
     "output_type": "stream",
     "text": [
      "313/313 [==============================] - 1s 4ms/step - loss: 0.0258 - accuracy: 0.9912\n",
      "Test Loss: 0.02578812837600708\n",
      "Test Accuracy: 0.9911999702453613\n"
     ]
    }
   ],
   "source": [
    "loss, accuracy = cnn.evaluate(x_test, y_test)\n",
    "print('Test Loss:', loss)\n",
    "print('Test Accuracy:', accuracy)"
   ]
  },
  {
   "cell_type": "code",
   "execution_count": 108,
   "metadata": {},
   "outputs": [
    {
     "name": "stderr",
     "output_type": "stream",
     "text": [
      "2023-06-29 16:07:50.563246: I tensorflow/core/common_runtime/executor.cc:1197] [/device:CPU:0] (DEBUG INFO) Executor start aborting (this does not indicate an error and you can ignore this message): INVALID_ARGUMENT: You must feed a value for placeholder tensor 'inputs' with dtype float and shape [?,13,13,32]\n",
      "\t [[{{node inputs}}]]\n",
      "2023-06-29 16:07:50.573214: I tensorflow/core/common_runtime/executor.cc:1197] [/device:CPU:0] (DEBUG INFO) Executor start aborting (this does not indicate an error and you can ignore this message): INVALID_ARGUMENT: You must feed a value for placeholder tensor 'inputs' with dtype float and shape [?,5,5,64]\n",
      "\t [[{{node inputs}}]]\n",
      "2023-06-29 16:07:50.583486: I tensorflow/core/common_runtime/executor.cc:1197] [/device:CPU:0] (DEBUG INFO) Executor start aborting (this does not indicate an error and you can ignore this message): INVALID_ARGUMENT: You must feed a value for placeholder tensor 'inputs' with dtype float and shape [?,128]\n",
      "\t [[{{node inputs}}]]\n",
      "2023-06-29 16:07:50.694488: I tensorflow/core/common_runtime/executor.cc:1197] [/device:CPU:0] (DEBUG INFO) Executor start aborting (this does not indicate an error and you can ignore this message): INVALID_ARGUMENT: You must feed a value for placeholder tensor 'inputs' with dtype float and shape [?,13,13,32]\n",
      "\t [[{{node inputs}}]]\n",
      "2023-06-29 16:07:50.715888: I tensorflow/core/common_runtime/executor.cc:1197] [/device:CPU:0] (DEBUG INFO) Executor start aborting (this does not indicate an error and you can ignore this message): INVALID_ARGUMENT: You must feed a value for placeholder tensor 'inputs' with dtype float and shape [?,5,5,64]\n",
      "\t [[{{node inputs}}]]\n",
      "2023-06-29 16:07:50.738075: I tensorflow/core/common_runtime/executor.cc:1197] [/device:CPU:0] (DEBUG INFO) Executor start aborting (this does not indicate an error and you can ignore this message): INVALID_ARGUMENT: You must feed a value for placeholder tensor 'inputs' with dtype float and shape [?,128]\n",
      "\t [[{{node inputs}}]]\n",
      "WARNING:absl:Found untraced functions such as _jit_compiled_convolution_op, _jit_compiled_convolution_op while saving (showing 2 of 2). These functions will not be directly callable after loading.\n"
     ]
    },
    {
     "name": "stdout",
     "output_type": "stream",
     "text": [
      "INFO:tensorflow:Assets written to: models/cnn/assets\n"
     ]
    },
    {
     "name": "stderr",
     "output_type": "stream",
     "text": [
      "INFO:tensorflow:Assets written to: models/cnn/assets\n"
     ]
    }
   ],
   "source": [
    "cnn.save(\"models/cnn\")"
   ]
  },
  {
   "cell_type": "markdown",
   "metadata": {},
   "source": [
    "## From Scratch Neural Net"
   ]
  },
  {
   "cell_type": "code",
   "execution_count": 17,
   "metadata": {},
   "outputs": [],
   "source": [
    "from mynet import NeuralNetwork"
   ]
  },
  {
   "cell_type": "code",
   "execution_count": 18,
   "metadata": {},
   "outputs": [],
   "source": [
    "nn = NeuralNetwork([784, 30, 10])"
   ]
  },
  {
   "cell_type": "code",
   "execution_count": 19,
   "metadata": {},
   "outputs": [],
   "source": [
    "x_train_flatten = x_train.reshape(60000, -1, 1)\n",
    "x_test_flatten = x_test.reshape(10000, -1, 1)"
   ]
  },
  {
   "cell_type": "code",
   "execution_count": 20,
   "metadata": {},
   "outputs": [
    {
     "name": "stdout",
     "output_type": "stream",
     "text": [
      "(10000,)\n"
     ]
    }
   ],
   "source": [
    "y_train_hot = np.reshape(to_categorical(y_train), (60000, 10, 1))\n",
    "print(y_test.shape)"
   ]
  },
  {
   "cell_type": "code",
   "execution_count": 21,
   "metadata": {},
   "outputs": [],
   "source": [
    "nn_train_data = list(tuple(zip(x_train_flatten, y_train_hot)))\n",
    "nn_test_data = list(tuple(zip(x_test_flatten, y_test)))"
   ]
  },
  {
   "cell_type": "code",
   "execution_count": 22,
   "metadata": {},
   "outputs": [
    {
     "name": "stdout",
     "output_type": "stream",
     "text": [
      "60000\n",
      "2\n",
      "(784, 1)\n",
      "(10, 1)\n"
     ]
    }
   ],
   "source": [
    "print(len(nn_train_data))\n",
    "print(len(nn_train_data[0]))\n",
    "print(nn_train_data[100][0].shape)\n",
    "print(nn_train_data[100][1].shape)\n"
   ]
  },
  {
   "cell_type": "code",
   "execution_count": 23,
   "metadata": {},
   "outputs": [
    {
     "name": "stdout",
     "output_type": "stream",
     "text": [
      "Epoch 0 complete: 8754 / 10000\n",
      "Epoch 1 complete: 9051 / 10000\n",
      "Epoch 2 complete: 9174 / 10000\n",
      "Epoch 3 complete: 9230 / 10000\n",
      "Epoch 4 complete: 9267 / 10000\n",
      "Epoch 5 complete: 9309 / 10000\n",
      "Epoch 6 complete: 9365 / 10000\n",
      "Epoch 7 complete: 9364 / 10000\n",
      "Epoch 8 complete: 9388 / 10000\n",
      "Epoch 9 complete: 9376 / 10000\n"
     ]
    }
   ],
   "source": [
    "epochs = 10\n",
    "eta = 3\n",
    "\n",
    "nn.train(training_data=nn_train_data, epochs=epochs, eta=eta, test_data=nn_test_data)"
   ]
  },
  {
   "cell_type": "code",
   "execution_count": 27,
   "metadata": {},
   "outputs": [],
   "source": [
    "weights = nn.weights\n",
    "biases = nn.biases\n",
    "\n",
    "# Save the weights\n",
    "# with open('models/my_nn/weights.pkl', 'wb') as f:\n",
    "#     pickle.dump(weights, f)\n",
    "\n",
    "np.save('models/my_nn/weights.npy', weights)\n",
    "np.save('models/my_nn/biases.npy', biases)\n",
    "\n",
    "\n",
    "# # Save the biases\n",
    "# with open('models/my_nn/biases.pkl', 'wb') as f:\n",
    "#     pickle.dump(biases, f)"
   ]
  }
 ],
 "metadata": {
  "kernelspec": {
   "display_name": "Python 3.11.3 ('tf')",
   "language": "python",
   "name": "python3"
  },
  "language_info": {
   "codemirror_mode": {
    "name": "ipython",
    "version": 3
   },
   "file_extension": ".py",
   "mimetype": "text/x-python",
   "name": "python",
   "nbconvert_exporter": "python",
   "pygments_lexer": "ipython3",
   "version": "3.11.3"
  },
  "orig_nbformat": 4,
  "vscode": {
   "interpreter": {
    "hash": "a1ba5e19180fac51b9befda9a64ad40cb64b262070331b52251e8022b1d0e710"
   }
  }
 },
 "nbformat": 4,
 "nbformat_minor": 2
}
